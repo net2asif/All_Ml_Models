{
 "cells": [
  {
   "cell_type": "markdown",
   "metadata": {},
   "source": [
    "# Hypertuning the model\n",
    "Hypertuning is a technique used to find the best parameters for a model. We can do this by changing the values of the parameters.\n",
    "\n",
    "**Types of hyperparameters**\n",
    "- grid search \n",
    "- random search\n",
    "- bayesian optimization\n",
    "- gradient based optimization\n"
   ]
  },
  {
   "cell_type": "markdown",
   "metadata": {},
   "source": [
    "# Cross validation\n",
    "Cross validation is a technique used to validate the model. We can do this by changing the values of the parameters.\n",
    "\n",
    "**Types of cross validation**\n",
    "- K-fold\n",
    "- Stratified K-fold"
   ]
  },
  {
   "cell_type": "code",
   "execution_count": 2,
   "metadata": {},
   "outputs": [],
   "source": [
    "#importing libraries\n",
    "from sklearn.ensemble import RandomForestClassifier\n",
    "from sklearn.model_selection import train_test_split, GridSearchCV\n",
    "from sklearn.metrics import accuracy_score, confusion_matrix, classification_report"
   ]
  },
  {
   "cell_type": "code",
   "execution_count": 3,
   "metadata": {},
   "outputs": [],
   "source": [
    "#loading dataset \n",
    "from sklearn.datasets import load_iris\n",
    "iris = load_iris()\n",
    "X = iris.data\n",
    "y = iris.target"
   ]
  },
  {
   "cell_type": "code",
   "execution_count": null,
   "metadata": {},
   "outputs": [],
   "source": [
    "# defining random forest classifier\n",
    "rfc = RandomForestClassifier()\n",
    "\n",
    "#create a parameter grid\n",
    "param_grid = {'n_estimators': [100, 200, 300, 400, 500, 600, 700, 800, 900, 1000],# n_estimators is the number of trees in the forest\n",
    "    'max_features': ['auto', 'sqrt', 'log2'], #max_features is the number of features to consider when looking for the best split\n",
    "    'max_depth': [10, 20, 30, 40, 50, 60, 70, 80, 90, 100],#max_depth is the maximum depth of the tree\n",
    "    'criterion': ['gini', 'entropy']}#criterion is the function to measure the quality of a split\n",
    "\n",
    "#create a grid search object\n",
    "grid_search = GridSearchCV(\n",
    "    estimator = rfc,\n",
    "    param_grid = param_grid,#param_grid is the parameter grid\n",
    "    cv = 5,#cv is the number of folds in the cross-validation\n",
    "    scoring='accuracy',#scoring is the metric to evaluate the performance of the model\n",
    "    verbose = 1,#verbose is the level of verbosity and verbosity is the amount of information to print\n",
    "    n_jobs = -1#n_jobs is the number of jobs to run in parallel\n",
    "    )\n",
    "\n",
    "#fit the grid search object\n",
    "grid_search.fit(X, y)\n",
    "\n",
    "#print the best parameters\n",
    "print(f'best parameters: {grid_search.best_params_}')"
   ]
  },
  {
   "cell_type": "markdown",
   "metadata": {},
   "source": [
    "# Randomized Search\n",
    "Randomized Search is a technique used to find the best parameters for a model. We can do this by changing the values of the parameters."
   ]
  },
  {
   "cell_type": "code",
   "execution_count": null,
   "metadata": {},
   "outputs": [
    {
     "name": "stdout",
     "output_type": "stream",
     "text": [
      "Fitting 5 folds for each of 10 candidates, totalling 50 fits\n",
      "best parameters: {'n_estimators': 400, 'max_depth': 60, 'criterion': 'entropy'}\n"
     ]
    }
   ],
   "source": [
    "#now randomized search cv\n",
    "from sklearn.model_selection import RandomizedSearchCV\n",
    "#defining random forest classifier\n",
    "rfc = RandomForestClassifier()\n",
    "\n",
    "#create a parameter grid\n",
    "param_grid = {\n",
    "    'n_estimators': [100, 200, 300, 400, 500, 600, 700, 800, 900, 1000],\n",
    "    'max_depth': [10, 20, 30, 40, 50, 60, 70, 80, 90, 100],\n",
    "    'criterion': ['gini', 'entropy']\n",
    "}\n",
    "\n",
    "#create a randomized search object\n",
    "random_search = RandomizedSearchCV(\n",
    "    estimator = rfc,\n",
    "    param_distributions = param_grid,\n",
    "    cv = 5, # number of folds in the cross-validation\n",
    "    scoring = 'accuracy', # metric to evaluate the performance of the model\n",
    "    verbose = 1, # level of verbosity\n",
    "    n_jobs = -1 # number of jobs to run in parallel\n",
    ")\n",
    "\n",
    "#fit the randomized search object\n",
    "random_search.fit(X, y)\n",
    "\n",
    "#print the best parameters\n",
    "print(f'best parameters: {random_search.best_params_}')"
   ]
  },
  {
   "cell_type": "code",
   "execution_count": null,
   "metadata": {},
   "outputs": [],
   "source": []
  }
 ],
 "metadata": {
  "kernelspec": {
   "display_name": "ml_python",
   "language": "python",
   "name": "python3"
  },
  "language_info": {
   "codemirror_mode": {
    "name": "ipython",
    "version": 3
   },
   "file_extension": ".py",
   "mimetype": "text/x-python",
   "name": "python",
   "nbconvert_exporter": "python",
   "pygments_lexer": "ipython3",
   "version": "3.11.5"
  }
 },
 "nbformat": 4,
 "nbformat_minor": 2
}
