{
 "cells": [
  {
   "cell_type": "markdown",
   "metadata": {},
   "source": [
    "# Descion Tree \n",
    "    'Descion tree' is used for classification and regression problem where the target variable is categorical.\n",
    "\n",
    "'entropy' is used to measure the uncertainty of a random variable in a probability distribution.\n"
   ]
  },
  {
   "cell_type": "code",
   "execution_count": 11,
   "metadata": {},
   "outputs": [],
   "source": [
    "import math"
   ]
  },
  {
   "cell_type": "code",
   "execution_count": 12,
   "metadata": {},
   "outputs": [
    {
     "name": "stdout",
     "output_type": "stream",
     "text": [
      "10\n"
     ]
    }
   ],
   "source": [
    "#create a two dataset of class A and B\n",
    "\n",
    "n_a=4\n",
    "n_b=6\n",
    "\n",
    "total=n_a+n_b\n",
    "\n",
    "print(total)"
   ]
  },
  {
   "cell_type": "code",
   "execution_count": 13,
   "metadata": {},
   "outputs": [
    {
     "name": "stdout",
     "output_type": "stream",
     "text": [
      "Proportion of class A: 0.4\n",
      "Proportion of class B: 0.6\n"
     ]
    }
   ],
   "source": [
    "#calculate the proportions of each class and print them\n",
    "\n",
    "p_a=n_a/total\n",
    "p_b=n_b/total\n",
    "\n",
    "#print the proportions\n",
    "print(\"Proportion of class A:\", p_a)\n",
    "print(\"Proportion of class B:\", p_b)\n"
   ]
  },
  {
   "cell_type": "code",
   "execution_count": 15,
   "metadata": {},
   "outputs": [
    {
     "name": "stdout",
     "output_type": "stream",
     "text": [
      "Entropy: 0.9709505944546686\n"
     ]
    }
   ],
   "source": [
    "#calculate the entropy\n",
    "#Entropy is measured of uncertainty\n",
    "\n",
    "entropy=-p_a*math.log2(p_a)-p_b*math.log2(p_b) #log2 is base 2 & \n",
    "\n",
    "#print the entropy\n",
    "print(\"Entropy:\", entropy)"
   ]
  },
  {
   "cell_type": "code",
   "execution_count": 16,
   "metadata": {},
   "outputs": [
    {
     "name": "stdout",
     "output_type": "stream",
     "text": [
      "Gini impurity: 0.48\n"
     ]
    }
   ],
   "source": [
    "#gini impurity is also a measure of uncertainty of a random variable\n",
    "#Gini impurity is also a measure of uncertainty of a random variable\n",
    "\n",
    "gini_impurity=p_a*(1-p_a)+p_b*(1-p_b)\n",
    "\n",
    "print(\"Gini impurity:\", gini_impurity)"
   ]
  },
  {
   "cell_type": "code",
   "execution_count": 19,
   "metadata": {},
   "outputs": [
    {
     "name": "stdout",
     "output_type": "stream",
     "text": [
      "Subset 1 Entropy: 0.9709505944546686\n"
     ]
    }
   ],
   "source": [
    "#information gain is the difference between entropy and gini impurity of a random variable\n",
    "\n",
    "#assuming a split on some feature divided into two subsets\n",
    "#Subset 1: 2 elements in class A, 3 elements in class B\n",
    "#Subset 2: 2 element in class A, 3 elements in class B\n",
    "#Entropy and size of each subset will be calculated\n",
    "\n",
    "n_1_A=1,3\n",
    "n_1_B=2,3\n",
    "\n",
    "\n"
   ]
  },
  {
   "cell_type": "code",
   "execution_count": null,
   "metadata": {},
   "outputs": [],
   "source": []
  }
 ],
 "metadata": {
  "kernelspec": {
   "display_name": "ml_python",
   "language": "python",
   "name": "python3"
  },
  "language_info": {
   "codemirror_mode": {
    "name": "ipython",
    "version": 3
   },
   "file_extension": ".py",
   "mimetype": "text/x-python",
   "name": "python",
   "nbconvert_exporter": "python",
   "pygments_lexer": "ipython3",
   "version": "3.11.5"
  }
 },
 "nbformat": 4,
 "nbformat_minor": 2
}
