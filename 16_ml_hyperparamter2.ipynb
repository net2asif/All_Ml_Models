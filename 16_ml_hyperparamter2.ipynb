{
 "cells": [
  {
   "cell_type": "markdown",
   "metadata": {},
   "source": [
    "# Hyperparameter Tuning\n",
    "Hyperparameter tunning is a technique that allows you to find the best value of the hyperparameter in a model. \n",
    "\n",
    "Types:\n",
    "- Grid Search\n",
    "- Random Search\n",
    "- Bayesian Optimization\n",
    "- Gradient Based Optimization"
   ]
  },
  {
   "cell_type": "code",
   "execution_count": 1,
   "metadata": {},
   "outputs": [],
   "source": [
    "#import sklearn libareies\n",
    "from sklearn.model_selection import train_test_split, GridSearchCV\n",
    "from sklearn.ensemble import RandomForestClassifier\n",
    "from sklearn.metrics import accuracy_score, confusion_matrix, classification_report"
   ]
  },
  {
   "cell_type": "code",
   "execution_count": 2,
   "metadata": {},
   "outputs": [],
   "source": [
    "#load the dataset from sklearn \n",
    "from sklearn.datasets import load_iris\n",
    "iris = load_iris()\n",
    "X=iris.data\n",
    "y=iris.target"
   ]
  },
  {
   "cell_type": "code",
   "execution_count": 25,
   "metadata": {},
   "outputs": [
    {
     "name": "stdout",
     "output_type": "stream",
     "text": [
      "Fitting 5 folds for each of 168 candidates, totalling 840 fits\n"
     ]
    },
    {
     "name": "stdout",
     "output_type": "stream",
     "text": [
      "Best parameters: {'bootstrap': True, 'criterion': 'gini', 'max_depth': 4, 'n_estimators': 300}\n",
      "CPU times: total: 6.09 s\n",
      "Wall time: 6min 17s\n"
     ]
    }
   ],
   "source": [
    "%%time\n",
    "#Define the model\n",
    "model = RandomForestClassifier()\n",
    "\n",
    "#create the parameter grid\n",
    "param_grid={\n",
    "    'n_estimators':[50,100,200,300,400,500], \n",
    "    'max_depth':[4,5,6,7,8,9,10], \n",
    "    'criterion':['gini','entropy'],\n",
    "    'bootstrap':[True, False],\n",
    "\n",
    "}\n",
    "\n",
    "#set up the grid\n",
    "grid=GridSearchCV(\n",
    "   estimator= model,\n",
    "   param_grid=param_grid,\n",
    "   cv=5,# cross validation\n",
    "   scoring='accuracy',\n",
    "   verbose=1,\n",
    "   n_jobs=-1\n",
    ")\n",
    "#fit the grid\n",
    "grid.fit(X, y)\n",
    "\n",
    "#check the best parameters\n",
    "print(f\"Best parameters: {grid.best_params_}\")\n",
    "\n"
   ]
  },
  {
   "cell_type": "code",
   "execution_count": null,
   "metadata": {},
   "outputs": [],
   "source": [
    "%%time\n",
    "#now using randomized search for the above model\n",
    "from sklearn.model_selection import RandomizedSearchCV\n",
    "#Define the model\n",
    "model = RandomForestClassifier()\n",
    "\n",
    "#create the parameter grid\n",
    "param_grid={\n",
    "    'n_estimators':[50,100,200,300,400,500], \n",
    "    'max_depth':[4,5,6,7,8,9,10], \n",
    "    'criterion':['gini','entropy'],\n",
    "    'bootstrap':[True, False],\n",
    "\n",
    "}\n",
    "\n",
    "#set up the grid\n",
    "grid=RandomizedSearchCV(\n",
    "   estimator= model,\n",
    "   param_distributions=param_grid,\n",
    "   cv=5,# cross validation\n",
    "   scoring='accuracy',\n",
    "   verbose=1,\n",
    "   n_jobs=-1\n",
    ")\n",
    "\n",
    "#fit the grid\n",
    "grid.fit(X, y)\n",
    "\n",
    "#check the best parameters\n",
    "print(f\"Best parameters: {grid.best_params_}\")\n"
   ]
  }
 ],
 "metadata": {
  "kernelspec": {
   "display_name": "ml_python",
   "language": "python",
   "name": "python3"
  },
  "language_info": {
   "codemirror_mode": {
    "name": "ipython",
    "version": 3
   },
   "file_extension": ".py",
   "mimetype": "text/x-python",
   "name": "python",
   "nbconvert_exporter": "python",
   "pygments_lexer": "ipython3",
   "version": "3.11.5"
  }
 },
 "nbformat": 4,
 "nbformat_minor": 2
}
